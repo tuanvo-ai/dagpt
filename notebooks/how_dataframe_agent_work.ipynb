{
 "cells": [
  {
   "cell_type": "code",
   "execution_count": 1,
   "metadata": {},
   "outputs": [],
   "source": [
    "from langchain_experimental.agents.agent_toolkits.pandas.base import create_pandas_dataframe_agent\n",
    "from langchain_openai import ChatOpenAI\n",
    "from langchain_google_genai import GoogleGenerativeAI\n",
    "from langchain_google_genai import ChatGoogleGenerativeAI\n",
    "import matplotlib.pyplot as plt\n",
    "import pandas as pd\n",
    "from dotenv import load_dotenv\n",
    "import os\n",
    "import time\n",
    "from google.api_core.exceptions import ResourceExhausted\n",
    "\n",
    "\n",
    "# load environment varibles, bao loi neu khong co Key\n",
    "load_dotenv()\n",
    "google_api_key = os.environ.get(\"GOOGLE_API_KEY\")\n",
    "if not google_api_key:\n",
    "    raise ValueError(\"Google API Key not found in environment variables.\")\n",
    "\n",
    "openai_api_key = os.environ.get(\"OPENAI_API_KEY\")\n",
    "if not openai_api_key:\n",
    "    raise ValueError(\"OpenAI API Key not found in environment variables.\")\n"
   ]
  },
  {
   "cell_type": "code",
   "execution_count": null,
   "metadata": {},
   "outputs": [],
   "source": [
    "import sys\n",
    "sys.path.append(\"/Users/tuan.vo/llm-ai/dagpt\") #THEM PATH VAO DE LOAD DUOC SCR\n",
    "\n",
    "from scr.models.llms import load_llm\n",
    "\n",
    "#   LUA CHON MODEL DE CHAY\n",
    "#MODEL_NAME = \"gpt-4o-mini\"\n",
    "#MODEL_NAME = \"gemini-pro\"\n",
    "model_name = \"gemini-1.5-pro-002\"\n",
    "api_key = google_api_key\n",
    "try:\n",
    "    llm = load_llm(api_key, model_name)\n",
    "    print(llm)\n",
    "except TypeError as e:\n",
    "    print(f\"Error: {e}\")\n",
    "except ValueError as e:\n",
    "    print(f\"Error: {e}\")\n",
    "\n",
    "#llm"
   ]
  },
  {
   "cell_type": "code",
   "execution_count": null,
   "metadata": {},
   "outputs": [],
   "source": [
    "# DOC DU LIEU\n",
    "df = pd.read_csv(\"../data/raw/updated_stock_data.csv\")\n",
    "\n",
    "# GOI HAM AGENT create_pandas_dataframe_agent\n",
    "try:\n",
    "    da_agent = create_pandas_dataframe_agent(\n",
    "        llm=llm,\n",
    "        df=df,\n",
    "        agent_type='zero-shot-react-description',\n",
    "        allow_dangerous_code=True,\n",
    "        verbose=True,\n",
    "        return_intermediate_steps=True,\n",
    ")\n",
    "except Exception as e:\n",
    "    raise RuntimeError(f\"Failed to create pandas DataFrame agent: {e}\")\n",
    "da_agent"
   ]
  },
  {
   "cell_type": "code",
   "execution_count": 4,
   "metadata": {},
   "outputs": [],
   "source": [
    "# THEM HAM NAY DE BAO LOI ResourceExhausted \n",
    "def call_once(da_agent, query,):\n",
    "    try:\n",
    "        response = da_agent.invoke(query)\n",
    "        return response\n",
    "    except ResourceExhausted as e:\n",
    "        print(\"Resource exhausted, cannot complete the request at this time.\")\n",
    "        raise\n",
    "    except Exception as e:\n",
    "        print(f\"An error occurred: {e}\")\n",
    "        raise\n",
    "\n",
    "def call_with_retry(da_agent, query, retries=2):\n",
    "    for i in range(retries):\n",
    "        try:\n",
    "            response = da_agent.invoke(query)\n",
    "            return response\n",
    "        except ResourceExhausted as e:\n",
    "            wait_time = 5 ** i  # Exponential backoff\n",
    "            print(f\"Resource exhausted, retrying in {wait_time} seconds...\")\n",
    "            time.sleep(wait_time)\n",
    "        except Exception as e:\n",
    "            print(f\"An error occurred: {e}\")\n",
    "            raise\n",
    "    raise RuntimeError(\"Maximum retry limit reached\")"
   ]
  },
  {
   "cell_type": "code",
   "execution_count": null,
   "metadata": {},
   "outputs": [],
   "source": [
    "query = \"describe this data\"\n",
    "try:\n",
    "    response = call_once(da_agent, query)\n",
    "    print(response)\n",
    "except RuntimeError as e:\n",
    "    print(f\"Failed to get a response: {e}\")\n",
    "#response = da_agent.invoke(query)\n",
    "response"
   ]
  },
  {
   "cell_type": "code",
   "execution_count": null,
   "metadata": {},
   "outputs": [],
   "source": [
    "# Access the input\n",
    "input_query = response.get(\"input\", \"No input found.\")\n",
    "print(f\"Input Query: {input_query}\")\n",
    "    \n",
    "    # Access the output\n",
    "output_result = response.get(\"output\", \"No output found.\")\n",
    "print(f\"Output Result: {output_result}\")\n",
    "    \n",
    "# Accessing intermediate_steps\n",
    "intermediate_steps = response.get(\"intermediate_steps\", [])\n",
    "if intermediate_steps:\n",
    "    # First element is an AgentAction object, so let's print its log\n",
    "    agent_action, action_input = intermediate_steps[0]  # Unpack the tuple\n",
    "    print(\"First intermediate step action:\", agent_action)\n",
    "    print(\"First intermediate step action input:\", action_input)  # This is the tool input\n",
    "    # Extract tool_input from agent_action\n",
    "    # Assuming agent_action is structured with tool_input as a string\n",
    "    tool_input_start = agent_action.tool_input.find('```python') + len('```python\\n')\n",
    "    tool_input_end = agent_action.tool_input.rfind('```')\n",
    "    code = agent_action.tool_input[tool_input_start:tool_input_end].strip()  # Extracting the code between the markers\n",
    "        \n",
    "    print(\"Code extracted from tool_input:\")\n",
    "    print(code)    \n",
    "    \n",
    "    # Check if there's a second element in intermediate_steps\n",
    "    if len(intermediate_steps) > 1:\n",
    "        print(\"Second intermediate step output:\", intermediate_steps[1])\n",
    "    else:\n",
    "        print(\"No second intermediate step output available.\")    \n",
    "\n",
    "else:\n",
    "    print(\"No intermediate steps found.\")"
   ]
  },
  {
   "cell_type": "code",
   "execution_count": null,
   "metadata": {},
   "outputs": [],
   "source": [
    "code_reg = response[\"intermediate_steps\"][-1][0].tool_input\n",
    "def extract_python_code(data):\n",
    "    # Loại bỏ phần đầu và cuối chứa ```python và ```\n",
    "    data = data.replace(\"```python\\n\", \"\").replace(\"\\n```\", \"\")\n",
    "    \n",
    "    return data\n",
    "python_code = extract_python_code(code_reg)\n",
    "print(python_code)"
   ]
  },
  {
   "cell_type": "code",
   "execution_count": null,
   "metadata": {},
   "outputs": [],
   "source": [
    "response['output']"
   ]
  },
  {
   "cell_type": "code",
   "execution_count": null,
   "metadata": {},
   "outputs": [],
   "source": [
    "# print(response[\"intermediate_steps\"][-1][0].tool_input['query'])"
   ]
  }
 ],
 "metadata": {
  "kernelspec": {
   "display_name": ".venv",
   "language": "python",
   "name": "python3"
  },
  "language_info": {
   "codemirror_mode": {
    "name": "ipython",
    "version": 3
   },
   "file_extension": ".py",
   "mimetype": "text/x-python",
   "name": "python",
   "nbconvert_exporter": "python",
   "pygments_lexer": "ipython3",
   "version": "3.12.4"
  }
 },
 "nbformat": 4,
 "nbformat_minor": 2
}
